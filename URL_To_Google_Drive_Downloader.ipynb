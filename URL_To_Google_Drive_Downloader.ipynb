{
  "nbformat": 4,
  "nbformat_minor": 0,
  "metadata": {
    "colab": {
      "provenance": [],
      "machine_shape": "hm",
      "include_colab_link": true
    },
    "kernelspec": {
      "name": "python3",
      "display_name": "Python 3"
    },
    "accelerator": "GPU"
  },
  "cells": [
    {
      "cell_type": "markdown",
      "metadata": {
        "id": "view-in-github",
        "colab_type": "text"
      },
      "source": [
        "<a href=\"https://colab.research.google.com/github/regaipaydogdu/url_to_google_drive_downloader/blob/main/URL_To_Google_Drive_Downloader.ipynb\" target=\"_parent\"><img src=\"https://colab.research.google.com/assets/colab-badge.svg\" alt=\"Open In Colab\"/></a>"
      ]
    },
    {
      "cell_type": "markdown",
      "metadata": {
        "id": "aQuWDmfm9YOi"
      },
      "source": [
        "# Mount Google Drive\n",
        "\n",
        "\n",
        "\n",
        "\n"
      ]
    },
    {
      "cell_type": "code",
      "metadata": {
        "id": "tPuLCnbGFmxo",
        "cellView": "form"
      },
      "source": [
        "#@title Mount Google Drive\n",
        "#@markdown <br><center><img src='https://raw.githubusercontent.com/regaipaydogdu/url_to_google_drive_downloader/main/mount%20google%20drive.png' alt=\"logo\"/></center>\n",
        "#@markdown <center><h3>Please Mount Google Drive</h3></center><br>\n",
        "\n",
        "import requests\n",
        "import io\n",
        "import math\n",
        "from google.colab import drive\n",
        "\n",
        "drive.mount('/content/drive')"
      ],
      "execution_count": null,
      "outputs": []
    },
    {
      "cell_type": "markdown",
      "metadata": {
        "id": "ELYlyo0p3wk8"
      },
      "source": [
        "# URL To Google Drive Downloader\n",
        "\n",
        "\n",
        "\n",
        "\n"
      ]
    },
    {
      "cell_type": "code",
      "metadata": {
        "cellView": "form",
        "id": "RXqhEtta3wlE"
      },
      "source": [
        "#@markdown <br><center><img src='https://raw.githubusercontent.com/regaipaydogdu/url_to_google_drive_downloader/main/url%20to%20google%20drive.png' alt=\"logo\"/></center>\n",
        "\n",
        "DOWNLOAD_URL = \"https://speed.hetzner.de/100MB.bin\" #@param {type:\"string\"}\n",
        "\n",
        "file_name = DOWNLOAD_URL.split(\"/\")[-1]\n",
        "\n",
        "response = requests.get(DOWNLOAD_URL, stream=True)\n",
        "total_size = int(response.headers.get('content-length', 0))\n",
        "\n",
        "\n",
        "with open(f'/content/drive/My Drive/{file_name}', 'wb') as f:\n",
        "    downloaded_size = 0\n",
        "    for data in response.iter_content(chunk_size=4096):\n",
        "        downloaded_size += len(data)\n",
        "        f.write(data)\n",
        "        percent = math.floor(downloaded_size * 100 / total_size)\n",
        "        loaded_size_mb = round(downloaded_size / 1024 / 1024, 2)\n",
        "        total_size_mb = round(total_size / 1024 / 1024, 2)\n",
        "        loaded_size_str = f\"{loaded_size_mb} MB\"\n",
        "        total_size_str = f\"{total_size_mb} MB\"\n",
        "        if total_size_mb >= 1024:\n",
        "            loaded_size_gb = round(loaded_size_mb / 1024, 2)\n",
        "            total_size_gb = round(total_size_mb / 1024, 2)\n",
        "            loaded_size_str = f\"{loaded_size_gb} GB\"\n",
        "            total_size_str = f\"{total_size_gb} GB\"\n",
        "        print(f\"\\rCompleted: {percent}% ({loaded_size_str}/{total_size_str})\",\n",
        "              end='')\n",
        "    print(\"\\nFile Successfully Uploaded.\")\n",
        "\n"
      ],
      "execution_count": null,
      "outputs": []
    }
  ]
}